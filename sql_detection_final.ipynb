{
 "cells": [
  {
   "cell_type": "code",
   "execution_count": 336,
   "metadata": {},
   "outputs": [],
   "source": [
    "from nltk.tokenize import word_tokenize\n",
    "import nltk\n",
    "import re\n",
    "import numpy\n",
    "import fasttext\n",
    "import pandas"
   ]
  },
  {
   "cell_type": "code",
   "execution_count": 337,
   "metadata": {},
   "outputs": [],
   "source": [
    "def tokenization(query):\n",
    "    tokens=query.upper()\n",
    "    #'``': 'DQUT', '\\'\\'': 'DQUT',\n",
    "    Dict = { '!=': 'NEQ', '<>': 'NEQ', '&&': 'AND', '||': 'OR', '/*': ' CMTST ',\n",
    "            '*/': 'CMTEND',\n",
    "            '~': 'TLDE', '!': 'EXCLM', '@': 'ATR', '#': 'HASH', '$': 'DLLR', '%': 'PRCNT', '^': 'XOR', '&': 'BITAND',\n",
    "            '|': 'BITOR', '*': 'STAR', '--': 'CMNT', '-': 'MINUS', '+': 'PLUS', '=': 'EQ', '/': 'SLSH', '?': 'QSTN',\n",
    "            '.': 'DOT',\n",
    "            ',': 'CMMA', '>': 'GT', '<': 'LT', '\\'': 'SQUT', '\"': 'DQUT', ';': 'SMCLN', ':': 'CLN', '\\\\': 'BSLSH',\n",
    "            ']': 'RSQBR', '[': 'LSQBR', '}': 'RCBR', '{': 'LCBR', ')': 'RPRN', '(': 'LPRN'}\n",
    "    i=0\n",
    "    while i < len(tokens):\n",
    "        if tokens[i] in Dict:\n",
    "            if i + 1 < len(tokens) and (tokens[i] + tokens[i + 1]) in Dict:\n",
    "                tokens=tokens.replace((tokens[i] + tokens[i + 1]),\" \"+Dict[(tokens[i] + tokens[i + 1])]+\" \")\n",
    "            else:\n",
    "                tokens=tokens.replace(tokens[i], \" \"+Dict[tokens[i]]+\" \")\n",
    "           \n",
    "        i = i + 1\n",
    "    #print(tokens)    \n",
    "    tokens=word_tokenize(tokens)\n",
    "    while i < len(tokens):\n",
    "        if re.search(\"^((25[0-5]|2[0-4][0-9]|[01]?[0-9][0-9]?)\\\\.){3}(25[0-5]|2[0-4][0-9]|[01]?[0-9][0-9]?)$\", tokens[i]):\n",
    "            tokens[i] = \"IPADDR\"\n",
    "        elif re.search(\"^([0-9]+)$\", tokens[i]):\n",
    "            tokens[i] = \"INT\"\n",
    "        elif re.search(\"^([A-Fa-f0-9]{2,})$\", tokens[i]):\n",
    "            tokens[i] = \"HEX\"\n",
    "        elif re.search(\"^\\d*[.,]?\\d*$\", tokens[i]):\n",
    "            tokens[i] = \"DEC\"\n",
    "        elif re.search(\"^([A-Za-z])$\", tokens[i]):\n",
    "            tokens[i] = \"CHR\"\n",
    "        else:\n",
    "            if i-1 > 0 and tokens[i-1] == \"FROM\":\n",
    "                tokens[i]= \"TABLE\"     \n",
    "    return \" \".join(tokens)"
   ]
  },
  {
   "cell_type": "code",
   "execution_count": 338,
   "metadata": {},
   "outputs": [],
   "source": [
    "queries = open(\"/home/mariam/Desktop/dataset/queries.txt\", \"rt\")\n",
    "tokenized = open(\"/home/mariam/Desktop/dataset/tokenized.txt\", \"w\")"
   ]
  },
  {
   "cell_type": "code",
   "execution_count": 339,
   "metadata": {},
   "outputs": [],
   "source": [
    "counter=0\n",
    "while True:\n",
    "    counter=counter+1\n",
    "    line=queries.readline()\n",
    "    if not line:\n",
    "        break\n",
    "    line.strip()\n",
    "    line=line.split(\" \",1)\n",
    "    query=tokenization(line[1])\n",
    "    tokenized.writelines([line[0]+\" \"+query,\"\\n\"])\n",
    "queries.close()\n",
    "tokenized.close() "
   ]
  },
  {
   "cell_type": "code",
   "execution_count": 340,
   "metadata": {},
   "outputs": [],
   "source": [
    "training=open(\"/home/mariam/Desktop/dataset/train.txt\", \"w\") #450 malicious #407 non-malicious\n",
    "valid=open(\"/home/mariam/Desktop/dataset/valid.txt\", \"w\") # 150 malicious #100 non-malicios\n",
    "tokenized = open(\"/home/mariam/Desktop/dataset/tokenized.txt\", \"r\")\n"
   ]
  },
  {
   "cell_type": "code",
   "execution_count": 341,
   "metadata": {},
   "outputs": [],
   "source": [
    "counter=0\n",
    "while True:\n",
    "    counter=counter+1\n",
    "    line=tokenized.readline()\n",
    "    if not line:\n",
    "        break\n",
    "    line.strip()\n",
    "    #label_query='__label__nonmalicious  '+ line\n",
    "    if counter<=407:\n",
    "        training.writelines([line,\"\\n\"])\n",
    "    elif counter>407 and counter<=507:\n",
    "        valid.writelines([line,\"\\n\"])\n",
    "    #label_malicious='__label__malicious  '+ line\n",
    "    if counter>507 and counter<=957:\n",
    "        training.writelines([line,\"\\n\"])\n",
    "    elif counter>957 and counter<=1107:\n",
    "        valid.writelines([line,\"\\n\"])\n",
    "\n",
    "        \n",
    "        \n",
    "valid.close()    \n",
    "tokenized.close()\n",
    "training.close()"
   ]
  },
  {
   "cell_type": "code",
   "execution_count": 342,
   "metadata": {},
   "outputs": [],
   "source": [
    "model = fasttext.train_supervised('/home/mariam/Desktop/dataset/train.txt')"
   ]
  },
  {
   "cell_type": "code",
   "execution_count": 343,
   "metadata": {},
   "outputs": [
    {
     "name": "stdout",
     "output_type": "stream",
     "text": [
      "97.2%\n"
     ]
    }
   ],
   "source": [
    "#print(model.test('/home/mariam/Desktop/dataset/valid.txt'))\n",
    "total, precision, recall = model.test('/home/mariam/Desktop/dataset/valid.txt')\n",
    "Fmeasure= 2 * ((precision*recall)/(precision + recall))\n",
    "print(str(Fmeasure * 100) + \"%\" )"
   ]
  },
  {
   "cell_type": "code",
   "execution_count": 303,
   "metadata": {},
   "outputs": [
    {
     "data": {
      "text/plain": [
       "(('__label__malicious',), array([0.99063867]))"
      ]
     },
     "execution_count": 303,
     "metadata": {},
     "output_type": "execute_result"
    }
   ],
   "source": [
    "model.predict(\"INT '' RPRN RPRN RPRN OR EXTRACTVALUE LPRN INT CMMA CONCAT LPRN 0X5C,0X7171706A71 CMMA LPRN SELECT LPRN ELT LPRN INT EQ DEC RPRN RPRN RPRN ,0X717A767A71 RPRN RPRN AND LPRN LPRN LPRN `` YXPO '' LIKE `` YXPO\")"
   ]
  },
  {
   "cell_type": "code",
   "execution_count": 304,
   "metadata": {},
   "outputs": [
    {
     "data": {
      "text/plain": [
       "(('__label__nonmalicious',), array([0.8489356]))"
      ]
     },
     "execution_count": 304,
     "metadata": {},
     "output_type": "execute_result"
    }
   ],
   "source": [
    "model.predict(\"SELECT COUNT LPRN STAR RPRN AS DISTINCTCOUNTRIES FROM LPRN ;\")"
   ]
  },
  {
   "cell_type": "code",
   "execution_count": 305,
   "metadata": {},
   "outputs": [
    {
     "data": {
      "text/plain": [
       "(('__label__malicious',), array([0.98988789]))"
      ]
     },
     "execution_count": 305,
     "metadata": {},
     "output_type": "execute_result"
    }
   ],
   "source": [
    "model.predict(tokenization('1%\"  )  )   )  union all select null,null,null,null,null,null,null,null--'))"
   ]
  },
  {
   "cell_type": "code",
   "execution_count": 306,
   "metadata": {},
   "outputs": [
    {
     "data": {
      "text/plain": [
       "(('__label__nonmalicious',), array([0.99196416]))"
      ]
     },
     "execution_count": 306,
     "metadata": {},
     "output_type": "execute_result"
    }
   ],
   "source": [
    "model.predict(tokenization(\"SELECT * FROM () Customers WHERE CustomerName LIKE '_r%';\"))"
   ]
  },
  {
   "cell_type": "code",
   "execution_count": 307,
   "metadata": {},
   "outputs": [
    {
     "data": {
      "text/plain": [
       "(('__label__malicious',), array([0.97067046]))"
      ]
     },
     "execution_count": 307,
     "metadata": {},
     "output_type": "execute_result"
    }
   ],
   "source": [
    "model.predict(tokenization(\" 1 )  as bidc where 5268 = 5268 and  ( select * from  ( select ( sleep ( 5  )  )   ) fzno ) --\"))"
   ]
  },
  {
   "cell_type": "code",
   "execution_count": 308,
   "metadata": {},
   "outputs": [
    {
     "data": {
      "text/plain": [
       "(('__label__nonmalicious',), array([0.99037927]))"
      ]
     },
     "execution_count": 308,
     "metadata": {},
     "output_type": "execute_result"
    }
   ],
   "source": [
    "model.predict(tokenization(\"SELECT * FROM rnoo WHERE rnoo.haya != rnoo.leen and Mariam = 5;\"))"
   ]
  },
  {
   "cell_type": "code",
   "execution_count": 309,
   "metadata": {},
   "outputs": [
    {
     "data": {
      "text/plain": [
       "(('__label__nonmalicious',), array([0.73469847]))"
      ]
     },
     "execution_count": 309,
     "metadata": {},
     "output_type": "execute_result"
    }
   ],
   "source": [
    "model.predict(tokenization(\"hello ghkdh jgfk ldhfnvfk\"))"
   ]
  },
  {
   "cell_type": "code",
   "execution_count": 310,
   "metadata": {},
   "outputs": [
    {
     "data": {
      "text/plain": [
       "(('__label__malicious',), array([0.95017999]))"
      ]
     },
     "execution_count": 310,
     "metadata": {},
     "output_type": "execute_result"
    }
   ],
   "source": [
    "model.predict(tokenization('1%\"  )  )   or 7552 =  ( select count ( * )  from rdb$fields as t1,rdb$types as t2,rdb$collations as t3,rdb$functions as t4 )  and   (  (  \"%\" = \"'))"
   ]
  },
  {
   "cell_type": "code",
   "execution_count": 313,
   "metadata": {},
   "outputs": [
    {
     "data": {
      "text/plain": [
       "(('__label__nonmalicious',), array([0.59816259]))"
      ]
     },
     "execution_count": 313,
     "metadata": {},
     "output_type": "execute_result"
    }
   ],
   "source": [
    "model.predict(tokenization(\"UPDATE users SET email = lower(email);\"))"
   ]
  },
  {
   "cell_type": "code",
   "execution_count": 314,
   "metadata": {},
   "outputs": [
    {
     "data": {
      "text/plain": [
       "(('__label__nonmalicious',), array([0.98939621]))"
      ]
     },
     "execution_count": 314,
     "metadata": {},
     "output_type": "execute_result"
    }
   ],
   "source": [
    "model.predict(tokenization(\"DROP TABLE IF EXISTS customer CASCADE;\"))"
   ]
  },
  {
   "cell_type": "code",
   "execution_count": 316,
   "metadata": {},
   "outputs": [
    {
     "data": {
      "text/plain": [
       "(('__label__malicious',), array([0.56772649]))"
      ]
     },
     "execution_count": 316,
     "metadata": {},
     "output_type": "execute_result"
    }
   ],
   "source": [
    "model.predict(tokenization(\"INSERT INTO product (name, price) SELECT random()::text, (random() * 1000)::int FROM generate_series(0, 10000);\"))"
   ]
  },
  {
   "cell_type": "code",
   "execution_count": 317,
   "metadata": {},
   "outputs": [
    {
     "data": {
      "text/plain": [
       "(('__label__malicious',), array([0.97918332]))"
      ]
     },
     "execution_count": 317,
     "metadata": {},
     "output_type": "execute_result"
    }
   ],
   "source": [
    "model.predict(tokenization(\"select * from users where id = 1 or  ( \\. )  = 1 union select 1,@@VERSION -- 1\"))"
   ]
  },
  {
   "cell_type": "code",
   "execution_count": 318,
   "metadata": {},
   "outputs": [
    {
     "data": {
      "text/plain": [
       "(('__label__malicious',), array([0.98334169]))"
      ]
     },
     "execution_count": 318,
     "metadata": {},
     "output_type": "execute_result"
    }
   ],
   "source": [
    "model.predict(tokenization(\"declare @q nvarchar  ( 200 )  0x730065006c00650063007400200040004000760065007200730069006f006e00 exec ( @q )\"))"
   ]
  },
  {
   "cell_type": "code",
   "execution_count": 319,
   "metadata": {},
   "outputs": [
    {
     "data": {
      "text/plain": [
       "(('__label__malicious',), array([0.99375033]))"
      ]
     },
     "execution_count": 319,
     "metadata": {},
     "output_type": "execute_result"
    }
   ],
   "source": [
    "model.predict(tokenization(\"or a  =  a\"))"
   ]
  },
  {
   "cell_type": "code",
   "execution_count": 320,
   "metadata": {},
   "outputs": [
    {
     "data": {
      "text/plain": [
       "(('__label__malicious',), array([0.9248324]))"
      ]
     },
     "execution_count": 320,
     "metadata": {},
     "output_type": "execute_result"
    }
   ],
   "source": [
    "model.predict(tokenization('admin\" #'))"
   ]
  },
  {
   "cell_type": "code",
   "execution_count": 321,
   "metadata": {},
   "outputs": [
    {
     "data": {
      "text/plain": [
       "(('__label__malicious',), array([0.99449897]))"
      ]
     },
     "execution_count": 321,
     "metadata": {},
     "output_type": "execute_result"
    }
   ],
   "source": [
    "model.predict(tokenization(\"1  )  )   as dgso where 4654 = 4654 and 2853 = cast  (  (  chr ( 113 ) ||chr ( 113 ) ||chr ( 112 ) ||chr ( 106 ) ||chr ( 113  )  )  || ( select  ( case when  ( 2853 = 2853 )  then 1 else 0 end  )  )  ::text|| ( chr ( 113 ) ||chr ( 122 ) ||chr ( 118 ) ||chr ( 122 ) ||chr ( 113  )  )   as numeric ) --\"))"
   ]
  },
  {
   "cell_type": "code",
   "execution_count": 322,
   "metadata": {},
   "outputs": [
    {
     "data": {
      "text/plain": [
       "(('__label__nonmalicious',), array([0.65064132]))"
      ]
     },
     "execution_count": 322,
     "metadata": {},
     "output_type": "execute_result"
    }
   ],
   "source": [
    "model.predict(tokenization(\"INSERT INTO customer (name) SELECT random()::text FROM generate_series(0, 100000);\"))"
   ]
  },
  {
   "cell_type": "code",
   "execution_count": 327,
   "metadata": {},
   "outputs": [
    {
     "data": {
      "text/plain": [
       "(('__label__malicious',), array([0.98365986]))"
      ]
     },
     "execution_count": 327,
     "metadata": {},
     "output_type": "execute_result"
    }
   ],
   "source": [
    "model.predict(tokenization(\"insert into users ( login, password, level )  values (  char ( 0x70 )  + char ( 0x65 )  + char ( 0x74 )  + char ( 0x65 )  + char ( 0x72 )  + char ( 0x70 )  + char ( 0x65 )  + char ( 0x74 )  + char ( 0x65 )  + char ( 0x72 ) ,char ( 0x64 )\"))"
   ]
  },
  {
   "cell_type": "code",
   "execution_count": 326,
   "metadata": {},
   "outputs": [
    {
     "data": {
      "text/plain": [
       "(('__label__malicious',), array([0.80118978]))"
      ]
     },
     "execution_count": 326,
     "metadata": {},
     "output_type": "execute_result"
    }
   ],
   "source": [
    "model.predict(tokenization(\"insert into mysql.user  ( user, host, password )  values  ( 'name', 'localhost', password ( 'pass123'  )  ) \"))"
   ]
  },
  {
   "cell_type": "code",
   "execution_count": 292,
   "metadata": {
    "scrolled": true
   },
   "outputs": [
    {
     "data": {
      "text/plain": [
       "array([ 0.11358951,  0.10480653, -0.05767942, -0.12872459,  0.28193882,\n",
       "        0.1448833 , -0.15858439, -0.22040069,  0.29239404,  0.29715583,\n",
       "       -0.23745717,  0.08715382, -0.14158145,  0.13052242, -0.06275795,\n",
       "        0.04183234, -0.06545533, -0.16901596, -0.06749158,  0.0792063 ,\n",
       "        0.22366424,  0.16209778,  0.0024659 , -0.11143451, -0.09987728,\n",
       "       -0.05727419,  0.30393136, -0.26309544, -0.16630766,  0.14585237,\n",
       "        0.12086555,  0.00768222, -0.18256299, -0.10169935, -0.29963878,\n",
       "       -0.0056648 , -0.1510986 ,  0.00072369,  0.0390562 ,  0.10351729,\n",
       "       -0.15258197,  0.25789902,  0.14535214,  0.13704202,  0.2347164 ,\n",
       "       -0.17208758,  0.23449722,  0.06946068, -0.02486586,  0.18184304,\n",
       "       -0.30472103,  0.12131523, -0.04642637, -0.02723935, -0.11215311,\n",
       "        0.02186445, -0.13916573,  0.10977095,  0.1335517 ,  0.10741097,\n",
       "       -0.03336021,  0.2084495 ,  0.22489786,  0.24140877, -0.16731335,\n",
       "        0.05025179, -0.20592092, -0.06136441, -0.11144574,  0.03767554,\n",
       "       -0.11788126,  0.20760813,  0.05775949, -0.07748681, -0.20826475,\n",
       "        0.03188603,  0.23773827,  0.08214147,  0.23074107, -0.18833841,\n",
       "        0.09735202,  0.03968079,  0.1298437 , -0.03526307,  0.18427493,\n",
       "       -0.08224211, -0.01600872,  0.23878537, -0.17433104, -0.12119602,\n",
       "        0.14125088, -0.01279643,  0.41531736, -0.22301394, -0.11012412,\n",
       "       -0.25046787, -0.17262094,  0.07560986, -0.13003181, -0.14665665],\n",
       "      dtype=float32)"
      ]
     },
     "execution_count": 292,
     "metadata": {},
     "output_type": "execute_result"
    }
   ],
   "source": [
    "model.get_word_vector(\"SELECT\")"
   ]
  },
  {
   "cell_type": "code",
   "execution_count": null,
   "metadata": {},
   "outputs": [],
   "source": []
  }
 ],
 "metadata": {
  "kernelspec": {
   "display_name": "Python 3",
   "language": "python",
   "name": "python3"
  },
  "language_info": {
   "codemirror_mode": {
    "name": "ipython",
    "version": 3
   },
   "file_extension": ".py",
   "mimetype": "text/x-python",
   "name": "python",
   "nbconvert_exporter": "python",
   "pygments_lexer": "ipython3",
   "version": "3.8.5"
  }
 },
 "nbformat": 4,
 "nbformat_minor": 4
}
